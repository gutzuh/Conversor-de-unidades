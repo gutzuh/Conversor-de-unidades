{
  "nbformat": 4,
  "nbformat_minor": 0,
  "metadata": {
    "colab": {
      "provenance": [],
      "authorship_tag": "ABX9TyO0axVnLp1ruCQAURfu3Gsd",
      "include_colab_link": true
    },
    "kernelspec": {
      "name": "python3",
      "display_name": "Python 3"
    },
    "language_info": {
      "name": "python"
    }
  },
  "cells": [
    {
      "cell_type": "markdown",
      "metadata": {
        "id": "view-in-github",
        "colab_type": "text"
      },
      "source": [
        "<a href=\"https://colab.research.google.com/github/gutzuh/Conversor-de-unidades/blob/main/Conversor.ipynb\" target=\"_parent\"><img src=\"https://colab.research.google.com/assets/colab-badge.svg\" alt=\"Open In Colab\"/></a>"
      ]
    },
    {
      "cell_type": "code",
      "execution_count": 28,
      "metadata": {
        "colab": {
          "base_uri": "https://localhost:8080/"
        },
        "id": "lildzlFrx7rp",
        "outputId": "c3697240-8f43-452a-b4fb-f03778dd33ad"
      },
      "outputs": [
        {
          "output_type": "stream",
          "name": "stdout",
          "text": [
            "=+==+==+==+==+==+==+==+==+==+==+==+==+==+==+=\n",
            "Sistema de conversao de numeros binarios\n",
            "=+==+==+==+==+==+==+==+==+==+==+==+==+==+==+=\n",
            "1 - Binario para decimal\n",
            "2 - Decimal para binario\n",
            "3 - Decimal para hexadecimal\n",
            "4 - Hexadecimal para decimal\n",
            "5 - Octal para decimal\n",
            "6 - Decimal para octal\n",
            "=+==+==+==+==+==+==+==+==+==+==+==+==+==+==+=\n",
            "Escolha uma opcao: 1\n",
            "Opcao invalida\n",
            "Digite o numero: 10111\n",
            "23\n"
          ]
        }
      ],
      "source": [
        "# criar um codigo que calcule e transforme um numero binario para decimal ou hexadecimal e vise versa\n",
        "# adicionar sistemas octal tambem\n",
        "def calc(type, in_num):\n",
        "    res = None\n",
        "    if type == \"bin2dec\":\n",
        "        res = int(in_num, 2)\n",
        "    if type == \"dec2bin\":\n",
        "        res = bin(int(in_num))\n",
        "    if type == \"dec2hex\":\n",
        "        res = hex(int(in_num))\n",
        "    if type == \"hex2dec\":\n",
        "        # adicionar sistema de letras\n",
        "        res = int(in_num, 16)\n",
        "    if type == \"oct2dec\":\n",
        "        res = int(in_num, 8)\n",
        "    if type == \"dec2oct\":\n",
        "        res = oct(int(in_num))\n",
        "    return res\n",
        "\n",
        "if __name__ == \"__main__\":\n",
        "    print(\"=+=\"*15)\n",
        "    print(\"Sistema de conversao de numeros binarios\")\n",
        "    print(\"=+=\"*15)\n",
        "    print(\"1 - Binario para decimal\")\n",
        "    print(\"2 - Decimal para binario\")\n",
        "    print(\"3 - Decimal para hexadecimal\")\n",
        "    print(\"4 - Hexadecimal para decimal\")\n",
        "    print(\"5 - Octal para decimal\")\n",
        "    print(\"6 - Decimal para octal\")\n",
        "    print(\"=+=\"*15)\n",
        "    type = input(\"Escolha uma opcao: \")\n",
        "    tipos = [\"bin2dec\", \"dec2bin\", \"dec2hex\", \"hex2dec\", \"oct2dec\", \"dec2oct\"]\n",
        "    if type not in tipos:\n",
        "        print(\"Opcao invalida\")\n",
        "    calc_type = tipos[int(type)-1]\n",
        "    in_num = input(\"Digite o numero: \")\n",
        "    print(calc(calc_type, in_num))\n",
        ""
      ]
    }
  ]
}